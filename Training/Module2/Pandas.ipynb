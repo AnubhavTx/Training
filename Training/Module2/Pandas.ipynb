{
 "cells": [
  {
   "cell_type": "code",
   "execution_count": 1,
   "id": "95854fd9",
   "metadata": {},
   "outputs": [],
   "source": [
    "import pandas as pd"
   ]
  },
  {
   "cell_type": "code",
   "execution_count": 4,
   "id": "1fd1f1de",
   "metadata": {},
   "outputs": [
    {
     "data": {
      "text/plain": [
       "0    10\n",
       "1    20\n",
       "2    30\n",
       "3    40\n",
       "4    50\n",
       "dtype: int64"
      ]
     },
     "execution_count": 4,
     "metadata": {},
     "output_type": "execute_result"
    }
   ],
   "source": [
    "s = pd.Series([10,20,30,40,50])\n",
    "s"
   ]
  },
  {
   "cell_type": "code",
   "execution_count": 5,
   "id": "b9107c77",
   "metadata": {},
   "outputs": [
    {
     "data": {
      "text/plain": [
       "dtype('int64')"
      ]
     },
     "execution_count": 5,
     "metadata": {},
     "output_type": "execute_result"
    }
   ],
   "source": [
    "s.dtype"
   ]
  },
  {
   "cell_type": "code",
   "execution_count": 8,
   "id": "bd4077b7",
   "metadata": {},
   "outputs": [
    {
     "data": {
      "text/plain": [
       "array([10, 20, 30, 40, 50])"
      ]
     },
     "execution_count": 8,
     "metadata": {},
     "output_type": "execute_result"
    }
   ],
   "source": [
    "s.values"
   ]
  },
  {
   "cell_type": "code",
   "execution_count": 9,
   "id": "ec16448a",
   "metadata": {},
   "outputs": [
    {
     "data": {
      "text/plain": [
       "RangeIndex(start=0, stop=5, step=1)"
      ]
     },
     "execution_count": 9,
     "metadata": {},
     "output_type": "execute_result"
    }
   ],
   "source": [
    "s.index"
   ]
  },
  {
   "cell_type": "code",
   "execution_count": 11,
   "id": "50abe940",
   "metadata": {},
   "outputs": [
    {
     "name": "stdout",
     "output_type": "stream",
     "text": [
      "None\n"
     ]
    }
   ],
   "source": [
    "print(s.name)"
   ]
  },
  {
   "cell_type": "code",
   "execution_count": 18,
   "id": "7657129d",
   "metadata": {},
   "outputs": [],
   "source": [
    "s.name = \"calories\""
   ]
  },
  {
   "cell_type": "code",
   "execution_count": 14,
   "id": "6b4c95b2",
   "metadata": {},
   "outputs": [
    {
     "data": {
      "text/plain": [
       "np.int64(10)"
      ]
     },
     "execution_count": 14,
     "metadata": {},
     "output_type": "execute_result"
    }
   ],
   "source": [
    "# indexing \n",
    "\n",
    "s[0]"
   ]
  },
  {
   "cell_type": "code",
   "execution_count": 15,
   "id": "b16e1918",
   "metadata": {},
   "outputs": [
    {
     "data": {
      "text/plain": [
       "0    10\n",
       "1    20\n",
       "dtype: int64"
      ]
     },
     "execution_count": 15,
     "metadata": {},
     "output_type": "execute_result"
    }
   ],
   "source": [
    "s[0:2]"
   ]
  },
  {
   "cell_type": "code",
   "execution_count": null,
   "id": "0594fa3e",
   "metadata": {},
   "outputs": [
    {
     "data": {
      "text/plain": [
       "np.int64(40)"
      ]
     },
     "execution_count": 16,
     "metadata": {},
     "output_type": "execute_result"
    }
   ],
   "source": [
    "# iloc->location based indexing numerical\n",
    "s.iloc[3]"
   ]
  },
  {
   "cell_type": "code",
   "execution_count": 17,
   "id": "135ba91f",
   "metadata": {},
   "outputs": [
    {
     "data": {
      "text/plain": [
       "1    20\n",
       "3    40\n",
       "4    50\n",
       "dtype: int64"
      ]
     },
     "execution_count": 17,
     "metadata": {},
     "output_type": "execute_result"
    }
   ],
   "source": [
    "s.iloc[[1,3,4]]"
   ]
  },
  {
   "cell_type": "code",
   "execution_count": 19,
   "id": "e3fe809f",
   "metadata": {},
   "outputs": [],
   "source": [
    "index = [\"apple\",\"banana\",\"grapes\",\"orange\",\"strawberry\"]\n"
   ]
  },
  {
   "cell_type": "code",
   "execution_count": 21,
   "id": "f0d08858",
   "metadata": {},
   "outputs": [
    {
     "data": {
      "text/plain": [
       "apple         10\n",
       "banana        20\n",
       "grapes        30\n",
       "orange        40\n",
       "strawberry    50\n",
       "Name: calories, dtype: int64"
      ]
     },
     "execution_count": 21,
     "metadata": {},
     "output_type": "execute_result"
    }
   ],
   "source": [
    "s.index = index\n",
    "s"
   ]
  },
  {
   "cell_type": "code",
   "execution_count": 22,
   "id": "f0ea95a1",
   "metadata": {},
   "outputs": [
    {
     "data": {
      "text/plain": [
       "np.int64(30)"
      ]
     },
     "execution_count": 22,
     "metadata": {},
     "output_type": "execute_result"
    }
   ],
   "source": [
    "s['grapes']"
   ]
  },
  {
   "cell_type": "code",
   "execution_count": null,
   "id": "5a187e29",
   "metadata": {},
   "outputs": [
    {
     "data": {
      "text/plain": [
       "banana    20\n",
       "grapes    30\n",
       "orange    40\n",
       "Name: calories, dtype: int64"
      ]
     },
     "execution_count": 24,
     "metadata": {},
     "output_type": "execute_result"
    }
   ],
   "source": [
    "# loc -> label based indexing\n",
    "\n",
    "\n",
    "# in label based indexing the start as well as stop values both are included in the output.\n",
    "s['banana':'orange']"
   ]
  },
  {
   "cell_type": "code",
   "execution_count": 26,
   "id": "4669ff82",
   "metadata": {},
   "outputs": [
    {
     "data": {
      "text/plain": [
       "grapes    30\n",
       "apple     10\n",
       "Name: calories, dtype: int64"
      ]
     },
     "execution_count": 26,
     "metadata": {},
     "output_type": "execute_result"
    }
   ],
   "source": [
    "s.loc[['grapes','apple']]"
   ]
  },
  {
   "cell_type": "code",
   "execution_count": 28,
   "id": "05721776",
   "metadata": {},
   "outputs": [],
   "source": [
    "fruit_protein = {\n",
    "    \"apple\": 0.3,\n",
    "    \"banana\": 1.1,\n",
    "    \"orange\": 0.9,\n",
    "    \"strawberry\": 0.8,\n",
    "    \"blueberry\": 0.7,\n",
    "    \"mango\": 0.9,\n",
    "    \"pineapple\": 0.5,\n",
    "    \"kiwi\": 1.1,\n",
    "    \"grapes\": 0.6,\n",
    "    \"papaya\": 0.5,\n",
    "    \"cherry\": 1.0,\n",
    "    \"peach\": 0.9,\n",
    "    \"plum\": 0.7,\n",
    "    \"guava\": 2.6,\n",
    "    \"avocado\": 2.9,\n",
    "    \"blackberry\": 1.4,\n",
    "    \"raspberry\": 1.3,\n",
    "    \"watermelon\": 0.4,\n",
    "    \"pomegranate\": 1.2,\n",
    "    \"jackfruit\": 2.1\n",
    "}\n"
   ]
  },
  {
   "cell_type": "code",
   "execution_count": 31,
   "id": "01ffdc85",
   "metadata": {},
   "outputs": [
    {
     "data": {
      "text/plain": [
       "apple          0.3\n",
       "banana         1.1\n",
       "orange         0.9\n",
       "strawberry     0.8\n",
       "blueberry      0.7\n",
       "mango          0.9\n",
       "pineapple      0.5\n",
       "kiwi           1.1\n",
       "grapes         0.6\n",
       "papaya         0.5\n",
       "cherry         1.0\n",
       "peach          0.9\n",
       "plum           0.7\n",
       "guava          2.6\n",
       "avocado        2.9\n",
       "blackberry     1.4\n",
       "raspberry      1.3\n",
       "watermelon     0.4\n",
       "pomegranate    1.2\n",
       "jackfruit      2.1\n",
       "Name: Protein content, dtype: float64"
      ]
     },
     "execution_count": 31,
     "metadata": {},
     "output_type": "execute_result"
    }
   ],
   "source": [
    "s2 = pd.Series(fruit_protein,name = \"Protein content\")\n",
    "s2"
   ]
  },
  {
   "cell_type": "code",
   "execution_count": null,
   "id": "b6413e0a",
   "metadata": {},
   "outputs": [
    {
     "name": "stdout",
     "output_type": "stream",
     "text": [
      "float64\n"
     ]
    }
   ],
   "source": [
    "print(s2.dtype)\n",
    "print(s2.value)"
   ]
  }
 ],
 "metadata": {
  "kernelspec": {
   "display_name": "Python 3",
   "language": "python",
   "name": "python3"
  },
  "language_info": {
   "codemirror_mode": {
    "name": "ipython",
    "version": 3
   },
   "file_extension": ".py",
   "mimetype": "text/x-python",
   "name": "python",
   "nbconvert_exporter": "python",
   "pygments_lexer": "ipython3",
   "version": "3.12.10"
  }
 },
 "nbformat": 4,
 "nbformat_minor": 5
}
